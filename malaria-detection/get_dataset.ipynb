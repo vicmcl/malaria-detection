{
  "cells": [
    {
      "cell_type": "markdown",
      "metadata": {
        "colab_type": "text",
        "id": "view-in-github"
      },
      "source": [
        "<a href=\"https://colab.research.google.com/github/vicmcl/malaria-detection/blob/main/notebook_malaria_detection.ipynb\" target=\"_parent\"><img src=\"https://colab.research.google.com/assets/colab-badge.svg\" alt=\"Open In Colab\"/></a>"
      ]
    },
    {
      "cell_type": "markdown",
      "metadata": {
        "id": "xbL3dHCsb6UT"
      },
      "source": [
        "# **Malaria Detection**"
      ]
    },
    {
      "cell_type": "markdown",
      "metadata": {
        "id": "HDM89XHyCxrA"
      },
      "source": [
        "## **Mount the Drive**"
      ]
    },
    {
      "cell_type": "code",
      "execution_count": null,
      "metadata": {
        "colab": {
          "base_uri": "https://localhost:8080/"
        },
        "id": "JQi_degJC3dm",
        "outputId": "2834bfbb-500c-4e10-dc2c-05f488673e04"
      },
      "outputs": [
        {
          "name": "stdout",
          "output_type": "stream",
          "text": [
            "Mounted at /content/drive\n"
          ]
        }
      ],
      "source": [
        "from pathlib import Path\n",
        "from google.colab import drive\n",
        "\n",
        "content_path = Path('/').absolute() / 'content'\n",
        "drive_path = content_path / 'drive'\n",
        "drive.mount(str(drive_path))"
      ]
    },
    {
      "cell_type": "markdown",
      "metadata": {
        "id": "m8SOx_-x9a1v"
      },
      "source": [
        "## **Import the dataset from Kaggle**"
      ]
    },
    {
      "cell_type": "code",
      "execution_count": null,
      "metadata": {
        "colab": {
          "base_uri": "https://localhost:8080/"
        },
        "id": "9uUh932OCW-q",
        "outputId": "a2291596-bc96-4fea-9064-fd78f153115a"
      },
      "outputs": [
        {
          "name": "stdout",
          "output_type": "stream",
          "text": [
            "Downloading cell-images-for-detecting-malaria.zip to /content\n",
            "100% 673M/675M [00:06<00:00, 102MB/s] \n",
            "100% 675M/675M [00:06<00:00, 110MB/s]\n"
          ]
        }
      ],
      "source": [
        "from zipfile import ZipFile\n",
        "\n",
        "DATASET = \"iarunava/cell-images-for-detecting-malaria\"\n",
        "\n",
        "# Get dataset from kaggle\n",
        "! mkdir ~/.kaggle\n",
        "! cp \"{drive_path / 'MyDrive' / 'API' / 'kaggle.json'}\" ~/.kaggle/\n",
        "! chmod 600 ~/.kaggle/kaggle.json\n",
        "! kaggle datasets download \"{DATASET}\"\n",
        "\n",
        "# Unzip dataset\n",
        "with content_path / str(DATASET.split(\"/\")[1] + \".zip\") as zip_path:\n",
        "    ZipFile(zip_path, 'r').extractall()\n",
        "\n",
        "# Remove nested copy of the directory\n",
        "! rm -rf cell_images/cell_images"
      ]
    }
  ],
  "metadata": {
    "accelerator": "GPU",
    "colab": {
      "gpuType": "T4",
      "include_colab_link": true,
      "machine_shape": "hm",
      "provenance": []
    },
    "kernelspec": {
      "display_name": "Python 3",
      "name": "python3"
    },
    "language_info": {
      "name": "python"
    }
  },
  "nbformat": 4,
  "nbformat_minor": 0
}
